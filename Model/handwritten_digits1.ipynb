{
 "cells": [
  {
   "cell_type": "code",
   "execution_count": 1,
   "metadata": {
    "colab": {},
    "colab_type": "code",
    "id": "NnM3VxaDBCst"
   },
   "outputs": [],
   "source": [
    "import os\n",
    "import numpy as np\n",
    "from tensorflow.keras.datasets import mnist\n",
    "import matplotlib.pyplot as plt\n",
    "import matplotlib.image as mpimg\n",
    "\n",
    "%matplotlib inline"
   ]
  },
  {
   "cell_type": "code",
   "execution_count": 5,
   "metadata": {
    "colab": {},
    "colab_type": "code",
    "id": "Hfjj0bjgTtl6"
   },
   "outputs": [],
   "source": [
    "# load dataset\n",
    "(X_train, y_train), (X_test, y_test) = mnist.load_data()"
   ]
  },
  {
   "cell_type": "code",
   "execution_count": 6,
   "metadata": {
    "colab": {},
    "colab_type": "code",
    "id": "mYrjti-cU0KX"
   },
   "outputs": [],
   "source": [
    "# reshape the data\n",
    "X_train = X_train.reshape(X_train.shape[0], 28, 28, 1).astype('float32')\n",
    "X_test = X_test.reshape(X_test.shape[0], 28, 28, 1).astype('float32')"
   ]
  },
  {
   "cell_type": "code",
   "execution_count": 7,
   "metadata": {
    "colab": {},
    "colab_type": "code",
    "id": "1FAat6wVUT8l"
   },
   "outputs": [],
   "source": [
    "# label encoding\n",
    "from keras.utils.np_utils import to_categorical\n",
    "y_train = to_categorical(y_train, num_classes=10)\n",
    "y_test = to_categorical(y_test, num_classes=10)"
   ]
  },
  {
   "cell_type": "code",
   "execution_count": 8,
   "metadata": {
    "colab": {},
    "colab_type": "code",
    "id": "aL0v2SFIkvf6"
   },
   "outputs": [],
   "source": [
    "# normalization\n",
    "X_train = X_train / 255.0\n",
    "X_test = X_test / 255.0"
   ]
  },
  {
   "cell_type": "code",
   "execution_count": 9,
   "metadata": {
    "colab": {},
    "colab_type": "code",
    "id": "5iU_xOVX4PGG"
   },
   "outputs": [],
   "source": [
    "# splitting the data\n",
    "from sklearn.model_selection import train_test_split\n",
    "X_train, X_val, y_train, y_val = train_test_split(X_train, y_train, test_size=0.1, random_state=42)"
   ]
  },
  {
   "cell_type": "code",
   "execution_count": 15,
   "metadata": {
    "colab": {},
    "colab_type": "code",
    "id": "BekoPdmQVAZi"
   },
   "outputs": [],
   "source": [
    "# build model\n",
    "from keras.layers import Conv2D, MaxPooling2D, Flatten, Dense\n",
    "from keras.models import Sequential\n",
    "\n",
    "num_classes = 10\n",
    "\n",
    "model = Sequential()\n",
    "model.add(Conv2D(32, (5, 5), strides=1, activation='relu', input_shape=(28, 28, 1)))\n",
    "model.add(MaxPooling2D(pool_size=(2, 2), strides=(2, 2)))\n",
    "model.add(Conv2D(16, (5, 5), strides=1, activation='relu'))\n",
    "model.add(MaxPooling2D(pool_size=(2, 2), strides=(2, 2)))\n",
    "model.add(Flatten())\n",
    "model.add(Dense(num_classes, activation='softmax'))"
   ]
  },
  {
   "cell_type": "code",
   "execution_count": 16,
   "metadata": {},
   "outputs": [
    {
     "name": "stdout",
     "output_type": "stream",
     "text": [
      "Model: \"sequential_1\"\n",
      "_________________________________________________________________\n",
      "Layer (type)                 Output Shape              Param #   \n",
      "=================================================================\n",
      "conv2d_2 (Conv2D)            (None, 24, 24, 32)        832       \n",
      "_________________________________________________________________\n",
      "max_pooling2d_2 (MaxPooling2 (None, 12, 12, 32)        0         \n",
      "_________________________________________________________________\n",
      "conv2d_3 (Conv2D)            (None, 8, 8, 16)          12816     \n",
      "_________________________________________________________________\n",
      "max_pooling2d_3 (MaxPooling2 (None, 4, 4, 16)          0         \n",
      "_________________________________________________________________\n",
      "flatten_1 (Flatten)          (None, 256)               0         \n",
      "_________________________________________________________________\n",
      "dense_1 (Dense)              (None, 10)                2570      \n",
      "=================================================================\n",
      "Total params: 16,218\n",
      "Trainable params: 16,218\n",
      "Non-trainable params: 0\n",
      "_________________________________________________________________\n"
     ]
    }
   ],
   "source": [
    "model.summary()"
   ]
  },
  {
   "cell_type": "code",
   "execution_count": 17,
   "metadata": {},
   "outputs": [
    {
     "data": {
      "text/plain": [
       "(54000, 28, 28, 1)"
      ]
     },
     "execution_count": 17,
     "metadata": {},
     "output_type": "execute_result"
    }
   ],
   "source": [
    "X_train.shape"
   ]
  },
  {
   "cell_type": "code",
   "execution_count": 18,
   "metadata": {
    "colab": {},
    "colab_type": "code",
    "id": "p3A52JlXWO9u"
   },
   "outputs": [],
   "source": [
    "model.compile(loss='categorical_crossentropy', optimizer='adam', metrics=['accuracy'])"
   ]
  },
  {
   "cell_type": "code",
   "execution_count": 19,
   "metadata": {
    "colab": {},
    "colab_type": "code",
    "id": "bJPo2heISXrx"
   },
   "outputs": [],
   "source": [
    "# data augmentation\n",
    "from keras.preprocessing.image import ImageDataGenerator\n",
    "\n",
    "train_datagen = ImageDataGenerator(\n",
    "  shear_range=0.2,\n",
    "  zoom_range=0.2,\n",
    "  rotation_range=15,\n",
    ")"
   ]
  },
  {
   "cell_type": "code",
   "execution_count": 20,
   "metadata": {
    "colab": {
     "base_uri": "https://localhost:8080/",
     "height": 357
    },
    "colab_type": "code",
    "id": "A-URuZ_tWYLc",
    "outputId": "203f1a09-9eea-4217-c75d-2ae6df947579"
   },
   "outputs": [
    {
     "name": "stderr",
     "output_type": "stream",
     "text": [
      "E:\\Anaconda\\lib\\site-packages\\tensorflow\\python\\keras\\engine\\training.py:1844: UserWarning: `Model.fit_generator` is deprecated and will be removed in a future version. Please use `Model.fit`, which supports generators.\n",
      "  warnings.warn('`Model.fit_generator` is deprecated and '\n"
     ]
    },
    {
     "name": "stdout",
     "output_type": "stream",
     "text": [
      "Epoch 1/25\n",
      "5400/5400 [==============================] - 54s 10ms/step - loss: 0.3861 - accuracy: 0.8762 - val_loss: 0.0567 - val_accuracy: 0.9823\n",
      "Epoch 2/25\n",
      "5400/5400 [==============================] - 54s 10ms/step - loss: 0.0868 - accuracy: 0.9728 - val_loss: 0.0452 - val_accuracy: 0.9855\n",
      "Epoch 3/25\n",
      "5400/5400 [==============================] - 56s 10ms/step - loss: 0.0697 - accuracy: 0.9779 - val_loss: 0.0400 - val_accuracy: 0.9872\n",
      "Epoch 4/25\n",
      "5400/5400 [==============================] - 54s 10ms/step - loss: 0.0544 - accuracy: 0.9831 - val_loss: 0.0402 - val_accuracy: 0.9892\n",
      "Epoch 5/25\n",
      "5400/5400 [==============================] - 51s 9ms/step - loss: 0.0468 - accuracy: 0.9853 - val_loss: 0.0392 - val_accuracy: 0.9887\n",
      "Epoch 6/25\n",
      "5400/5400 [==============================] - 51s 9ms/step - loss: 0.0415 - accuracy: 0.9867 - val_loss: 0.0376 - val_accuracy: 0.9905\n",
      "Epoch 7/25\n",
      "5400/5400 [==============================] - 50s 9ms/step - loss: 0.0410 - accuracy: 0.9870 - val_loss: 0.0359 - val_accuracy: 0.9898\n",
      "Epoch 8/25\n",
      "5400/5400 [==============================] - 50s 9ms/step - loss: 0.0416 - accuracy: 0.9867 - val_loss: 0.0540 - val_accuracy: 0.9852\n",
      "Epoch 9/25\n",
      "5400/5400 [==============================] - 50s 9ms/step - loss: 0.0384 - accuracy: 0.9883 - val_loss: 0.0338 - val_accuracy: 0.9925\n",
      "Epoch 10/25\n",
      "5400/5400 [==============================] - 50s 9ms/step - loss: 0.0377 - accuracy: 0.9881 - val_loss: 0.0367 - val_accuracy: 0.9903\n",
      "Epoch 11/25\n",
      "5400/5400 [==============================] - 50s 9ms/step - loss: 0.0354 - accuracy: 0.9885 - val_loss: 0.0372 - val_accuracy: 0.9903\n",
      "Epoch 12/25\n",
      "5400/5400 [==============================] - 53s 10ms/step - loss: 0.0324 - accuracy: 0.9898 - val_loss: 0.0409 - val_accuracy: 0.9917\n",
      "Epoch 13/25\n",
      "5400/5400 [==============================] - 49s 9ms/step - loss: 0.0350 - accuracy: 0.9886 - val_loss: 0.0420 - val_accuracy: 0.9903\n",
      "Epoch 14/25\n",
      "5400/5400 [==============================] - 50s 9ms/step - loss: 0.0317 - accuracy: 0.9904 - val_loss: 0.0391 - val_accuracy: 0.9913\n",
      "Epoch 15/25\n",
      "5400/5400 [==============================] - 50s 9ms/step - loss: 0.0328 - accuracy: 0.9892 - val_loss: 0.0437 - val_accuracy: 0.9898\n",
      "Epoch 16/25\n",
      "5400/5400 [==============================] - 50s 9ms/step - loss: 0.0310 - accuracy: 0.9896 - val_loss: 0.0450 - val_accuracy: 0.9890\n",
      "Epoch 17/25\n",
      "5400/5400 [==============================] - 50s 9ms/step - loss: 0.0338 - accuracy: 0.9893 - val_loss: 0.0531 - val_accuracy: 0.9898\n",
      "Epoch 18/25\n",
      "5400/5400 [==============================] - 50s 9ms/step - loss: 0.0318 - accuracy: 0.9899 - val_loss: 0.0464 - val_accuracy: 0.9885\n",
      "Epoch 19/25\n",
      "5400/5400 [==============================] - 50s 9ms/step - loss: 0.0289 - accuracy: 0.9906 - val_loss: 0.0418 - val_accuracy: 0.9900\n",
      "Epoch 20/25\n",
      "5400/5400 [==============================] - 49s 9ms/step - loss: 0.0302 - accuracy: 0.9901 - val_loss: 0.0408 - val_accuracy: 0.9913\n",
      "Epoch 21/25\n",
      "5400/5400 [==============================] - 50s 9ms/step - loss: 0.0330 - accuracy: 0.9898 - val_loss: 0.0396 - val_accuracy: 0.9908\n",
      "Epoch 22/25\n",
      "5400/5400 [==============================] - 50s 9ms/step - loss: 0.0275 - accuracy: 0.9914 - val_loss: 0.0476 - val_accuracy: 0.9890\n",
      "Epoch 23/25\n",
      "5400/5400 [==============================] - 50s 9ms/step - loss: 0.0282 - accuracy: 0.9908 - val_loss: 0.0516 - val_accuracy: 0.9882\n",
      "Epoch 24/25\n",
      "5400/5400 [==============================] - 50s 9ms/step - loss: 0.0280 - accuracy: 0.9910 - val_loss: 0.0442 - val_accuracy: 0.9903\n",
      "Epoch 25/25\n",
      "5400/5400 [==============================] - 50s 9ms/step - loss: 0.0254 - accuracy: 0.9921 - val_loss: 0.0494 - val_accuracy: 0.9895\n"
     ]
    }
   ],
   "source": [
    "batch_size = 10\n",
    "epochs = 25\n",
    "\n",
    "history = model.fit_generator(\n",
    "  train_datagen.flow(X_train, y_train, batch_size=batch_size),\n",
    "  steps_per_epoch=len(X_train) // batch_size,\n",
    "  validation_data=(X_val, y_val),\n",
    "  validation_steps=len(X_val) // batch_size,\n",
    "  epochs=epochs\n",
    ")"
   ]
  },
  {
   "cell_type": "code",
   "execution_count": 21,
   "metadata": {
    "colab": {
     "base_uri": "https://localhost:8080/",
     "height": 316
    },
    "colab_type": "code",
    "id": "ArCjqPU7WqOn",
    "outputId": "61844e18-7846-4030-c822-00b67376794a"
   },
   "outputs": [
    {
     "data": {
      "text/plain": [
       "<matplotlib.legend.Legend at 0x22706f11308>"
      ]
     },
     "execution_count": 21,
     "metadata": {},
     "output_type": "execute_result"
    },
    {
     "data": {
      "image/png": "[encoded data removed]",
      "text/plain": [
       "<Figure size 432x288 with 1 Axes>"
      ]
     },
     "metadata": {},
     "output_type": "display_data"
    }
   ],
   "source": [
    "plt.style.use(\"ggplot\")\n",
    "plt.figure()\n",
    "plt.plot(history.history[\"loss\"], label=\"train_loss\")\n",
    "plt.plot(history.history[\"val_loss\"], label=\"val_loss\")\n",
    "plt.plot(history.history[\"accuracy\"], label=\"train_acc\")\n",
    "plt.plot(history.history[\"val_accuracy\"], label=\"val_acc\")\n",
    "plt.title(\"Training Loss and Accuracy\")\n",
    "plt.xlabel(\"Epoch #\")\n",
    "plt.ylabel(\"Loss/Accuracy\")\n",
    "plt.legend(loc=\"best\")"
   ]
  },
  {
   "cell_type": "code",
   "execution_count": 22,
   "metadata": {
    "colab": {
     "base_uri": "https://localhost:8080/",
     "height": 306
    },
    "colab_type": "code",
    "id": "ODQqft1kSGav",
    "outputId": "bec3181b-d86f-482e-9508-c14372c03fd8"
   },
   "outputs": [
    {
     "name": "stdout",
     "output_type": "stream",
     "text": [
      "              precision    recall  f1-score   support\n",
      "\n",
      "           0       0.99      0.99      0.99       980\n",
      "           1       0.99      0.99      0.99      1135\n",
      "           2       0.99      0.99      0.99      1032\n",
      "           3       0.99      1.00      0.99      1010\n",
      "           4       0.99      0.99      0.99       982\n",
      "           5       0.98      0.99      0.99       892\n",
      "           6       0.99      0.99      0.99       958\n",
      "           7       0.99      0.99      0.99      1028\n",
      "           8       0.99      0.99      0.99       974\n",
      "           9       0.99      0.98      0.99      1009\n",
      "\n",
      "    accuracy                           0.99     10000\n",
      "   macro avg       0.99      0.99      0.99     10000\n",
      "weighted avg       0.99      0.99      0.99     10000\n",
      "\n"
     ]
    }
   ],
   "source": [
    "Y_predict = model.predict(X_test, batch_size=batch_size)\n",
    "pred_idx = np.argmax(Y_predict, axis=1)\n",
    "\n",
    "from sklearn.metrics import classification_report\n",
    "\n",
    "# show a nicely formatted classification report\n",
    "print(classification_report(y_test.argmax(axis=1), pred_idx, target_names= [str(c) for c in range(10)]))"
   ]
  },
  {
   "cell_type": "code",
   "execution_count": 23,
   "metadata": {
    "colab": {
     "base_uri": "https://localhost:8080/",
     "height": 34
    },
    "colab_type": "code",
    "id": "eX097HTDo32q",
    "outputId": "e9a8fe5b-f7ef-4814-e826-cf2131d9b298"
   },
   "outputs": [
    {
     "name": "stdout",
     "output_type": "stream",
     "text": [
      "Test accuracy: 0.9907\n"
     ]
    }
   ],
   "source": [
    "scores = model.evaluate(X_test, y_test, verbose=0)\n",
    "print(\"Test accuracy: {:.4f}\".format(scores[1]))"
   ]
  },
  {
   "cell_type": "code",
   "execution_count": 26,
   "metadata": {
    "colab": {
     "base_uri": "https://localhost:8080/",
     "height": 269
    },
    "colab_type": "code",
    "id": "v_pBZ_XBo8sb",
    "outputId": "21a702bf-fdaa-4609-cc59-40b5589dbecb",
    "scrolled": true
   },
   "outputs": [
    {
     "data": {
      "image/png": "[encoded data removed]",
      "text/plain": [
       "<Figure size 720x288 with 30 Axes>"
      ]
     },
     "metadata": {},
     "output_type": "display_data"
    }
   ],
   "source": [
    "# plot the images in a grid\n",
    "size = 30\n",
    "rows = 3\n",
    "f = plt.figure(figsize=(size // rows, rows + 1))\n",
    "plt.suptitle(\"Test dataset recognition\", fontsize=10)\n",
    "for i in range(size):\n",
    "    sp = f.add_subplot(rows, -(-size // rows), i + 1)\n",
    "    sp.axis('Off')\n",
    "    plt.imshow(X_test[i][:,:,0], cmap='gray_r')\n",
    "    sp.set_title(Y_predict[i].argmax(), fontsize=16)\n",
    "\n",
    "plt.savefig('test_dataset_recognition.png')"
   ]
  },
  {
   "cell_type": "code",
   "execution_count": 25,
   "metadata": {
    "colab": {},
    "colab_type": "code",
    "id": "4pEFY3bZX8Hn"
   },
   "outputs": [],
   "source": [
    "# %rm digitdemo1.h5\n",
    "model.save('digitdemo1.h5')"
   ]
  }
 ],
 "metadata": {
  "accelerator": "GPU",
  "colab": {
   "collapsed_sections": [],
   "name": "handwritten_digits.ipynb",
   "provenance": []
  },
  "kernelspec": {
   "display_name": "Python 3",
   "language": "python",
   "name": "python3"
  },
  "language_info": {
   "codemirror_mode": {
    "name": "ipython",
    "version": 3
   },
   "file_extension": ".py",
   "mimetype": "text/x-python",
   "name": "python",
   "nbconvert_exporter": "python",
   "pygments_lexer": "ipython3",
   "version": "3.7.4"
  }
 },
 "nbformat": 4,
 "nbformat_minor": 1
}
